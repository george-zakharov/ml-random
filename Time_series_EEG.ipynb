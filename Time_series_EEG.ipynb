{
  "nbformat": 4,
  "nbformat_minor": 0,
  "metadata": {
    "colab": {
      "name": "Time_series_EEG.ipynb",
      "provenance": [],
      "collapsed_sections": [],
      "toc_visible": true,
      "authorship_tag": "ABX9TyMQm+r3HaRzTWyHMbRLcyHR",
      "include_colab_link": true
    },
    "kernelspec": {
      "name": "python3",
      "display_name": "Python 3"
    }
  },
  "cells": [
    {
      "cell_type": "markdown",
      "metadata": {
        "id": "view-in-github",
        "colab_type": "text"
      },
      "source": [
        "<a href=\"https://colab.research.google.com/github/george-zakharov/ml-random/blob/master/Time_series_EEG.ipynb\" target=\"_parent\"><img src=\"https://colab.research.google.com/assets/colab-badge.svg\" alt=\"Open In Colab\"/></a>"
      ]
    },
    {
      "cell_type": "markdown",
      "metadata": {
        "id": "iB9_RoLoTzGa"
      },
      "source": [
        "# Load libs"
      ]
    },
    {
      "cell_type": "code",
      "metadata": {
        "id": "WxMWMFkZT1Zj"
      },
      "source": [
        "import requests\n",
        "\n",
        "import numpy as np\n",
        "import pandas as pd\n",
        "from scipy.io.arff import loadarff "
      ],
      "execution_count": 3,
      "outputs": []
    },
    {
      "cell_type": "markdown",
      "metadata": {
        "id": "ndzF9Lx6T2wQ"
      },
      "source": [
        "# Parse data"
      ]
    },
    {
      "cell_type": "code",
      "metadata": {
        "colab": {
          "base_uri": "https://localhost:8080/"
        },
        "id": "_ojhBYNLT4ei",
        "outputId": "40e8dab2-f598-472b-8c59-9390c43daac9"
      },
      "source": [
        "page = requests.get(\"https://archive.ics.uci.edu/ml/machine-learning-databases/00264/EEG%20Eye%20State.arff\", allow_redirects=True)\n",
        "\n",
        "if page.status_code != 200:\n",
        "  print('Source is not available')\n",
        "else:\n",
        "  print('Page loaded')"
      ],
      "execution_count": 4,
      "outputs": [
        {
          "output_type": "stream",
          "text": [
            "Page loaded\n"
          ],
          "name": "stdout"
        }
      ]
    },
    {
      "cell_type": "code",
      "metadata": {
        "id": "uzAuyh7YgJ1q"
      },
      "source": [
        "temp_file = 'data.arff'\n",
        "with open(temp_file, 'wb') as f:\n",
        "  f.write(page.content)"
      ],
      "execution_count": 8,
      "outputs": []
    },
    {
      "cell_type": "code",
      "metadata": {
        "id": "rPmuXZGvViFh"
      },
      "source": [
        "raw_data = loadarff(temp_file)\n",
        "df_data = pd.DataFrame(raw_data[0])"
      ],
      "execution_count": 9,
      "outputs": []
    },
    {
      "cell_type": "code",
      "metadata": {
        "colab": {
          "base_uri": "https://localhost:8080/",
          "height": 419
        },
        "id": "ALCnDHoLglX3",
        "outputId": "13319dd8-7fdd-44ca-9776-256b064650a7"
      },
      "source": [
        "df_data"
      ],
      "execution_count": 10,
      "outputs": [
        {
          "output_type": "execute_result",
          "data": {
            "text/html": [
              "<div>\n",
              "<style scoped>\n",
              "    .dataframe tbody tr th:only-of-type {\n",
              "        vertical-align: middle;\n",
              "    }\n",
              "\n",
              "    .dataframe tbody tr th {\n",
              "        vertical-align: top;\n",
              "    }\n",
              "\n",
              "    .dataframe thead th {\n",
              "        text-align: right;\n",
              "    }\n",
              "</style>\n",
              "<table border=\"1\" class=\"dataframe\">\n",
              "  <thead>\n",
              "    <tr style=\"text-align: right;\">\n",
              "      <th></th>\n",
              "      <th>AF3</th>\n",
              "      <th>F7</th>\n",
              "      <th>F3</th>\n",
              "      <th>FC5</th>\n",
              "      <th>T7</th>\n",
              "      <th>P7</th>\n",
              "      <th>O1</th>\n",
              "      <th>O2</th>\n",
              "      <th>P8</th>\n",
              "      <th>T8</th>\n",
              "      <th>FC6</th>\n",
              "      <th>F4</th>\n",
              "      <th>F8</th>\n",
              "      <th>AF4</th>\n",
              "      <th>eyeDetection</th>\n",
              "    </tr>\n",
              "  </thead>\n",
              "  <tbody>\n",
              "    <tr>\n",
              "      <th>0</th>\n",
              "      <td>4329.23</td>\n",
              "      <td>4009.23</td>\n",
              "      <td>4289.23</td>\n",
              "      <td>4148.21</td>\n",
              "      <td>4350.26</td>\n",
              "      <td>4586.15</td>\n",
              "      <td>4096.92</td>\n",
              "      <td>4641.03</td>\n",
              "      <td>4222.05</td>\n",
              "      <td>4238.46</td>\n",
              "      <td>4211.28</td>\n",
              "      <td>4280.51</td>\n",
              "      <td>4635.90</td>\n",
              "      <td>4393.85</td>\n",
              "      <td>b'0'</td>\n",
              "    </tr>\n",
              "    <tr>\n",
              "      <th>1</th>\n",
              "      <td>4324.62</td>\n",
              "      <td>4004.62</td>\n",
              "      <td>4293.85</td>\n",
              "      <td>4148.72</td>\n",
              "      <td>4342.05</td>\n",
              "      <td>4586.67</td>\n",
              "      <td>4097.44</td>\n",
              "      <td>4638.97</td>\n",
              "      <td>4210.77</td>\n",
              "      <td>4226.67</td>\n",
              "      <td>4207.69</td>\n",
              "      <td>4279.49</td>\n",
              "      <td>4632.82</td>\n",
              "      <td>4384.10</td>\n",
              "      <td>b'0'</td>\n",
              "    </tr>\n",
              "    <tr>\n",
              "      <th>2</th>\n",
              "      <td>4327.69</td>\n",
              "      <td>4006.67</td>\n",
              "      <td>4295.38</td>\n",
              "      <td>4156.41</td>\n",
              "      <td>4336.92</td>\n",
              "      <td>4583.59</td>\n",
              "      <td>4096.92</td>\n",
              "      <td>4630.26</td>\n",
              "      <td>4207.69</td>\n",
              "      <td>4222.05</td>\n",
              "      <td>4206.67</td>\n",
              "      <td>4282.05</td>\n",
              "      <td>4628.72</td>\n",
              "      <td>4389.23</td>\n",
              "      <td>b'0'</td>\n",
              "    </tr>\n",
              "    <tr>\n",
              "      <th>3</th>\n",
              "      <td>4328.72</td>\n",
              "      <td>4011.79</td>\n",
              "      <td>4296.41</td>\n",
              "      <td>4155.90</td>\n",
              "      <td>4343.59</td>\n",
              "      <td>4582.56</td>\n",
              "      <td>4097.44</td>\n",
              "      <td>4630.77</td>\n",
              "      <td>4217.44</td>\n",
              "      <td>4235.38</td>\n",
              "      <td>4210.77</td>\n",
              "      <td>4287.69</td>\n",
              "      <td>4632.31</td>\n",
              "      <td>4396.41</td>\n",
              "      <td>b'0'</td>\n",
              "    </tr>\n",
              "    <tr>\n",
              "      <th>4</th>\n",
              "      <td>4326.15</td>\n",
              "      <td>4011.79</td>\n",
              "      <td>4292.31</td>\n",
              "      <td>4151.28</td>\n",
              "      <td>4347.69</td>\n",
              "      <td>4586.67</td>\n",
              "      <td>4095.90</td>\n",
              "      <td>4627.69</td>\n",
              "      <td>4210.77</td>\n",
              "      <td>4244.10</td>\n",
              "      <td>4212.82</td>\n",
              "      <td>4288.21</td>\n",
              "      <td>4632.82</td>\n",
              "      <td>4398.46</td>\n",
              "      <td>b'0'</td>\n",
              "    </tr>\n",
              "    <tr>\n",
              "      <th>...</th>\n",
              "      <td>...</td>\n",
              "      <td>...</td>\n",
              "      <td>...</td>\n",
              "      <td>...</td>\n",
              "      <td>...</td>\n",
              "      <td>...</td>\n",
              "      <td>...</td>\n",
              "      <td>...</td>\n",
              "      <td>...</td>\n",
              "      <td>...</td>\n",
              "      <td>...</td>\n",
              "      <td>...</td>\n",
              "      <td>...</td>\n",
              "      <td>...</td>\n",
              "      <td>...</td>\n",
              "    </tr>\n",
              "    <tr>\n",
              "      <th>14975</th>\n",
              "      <td>4281.03</td>\n",
              "      <td>3990.26</td>\n",
              "      <td>4245.64</td>\n",
              "      <td>4116.92</td>\n",
              "      <td>4333.85</td>\n",
              "      <td>4614.36</td>\n",
              "      <td>4074.87</td>\n",
              "      <td>4625.64</td>\n",
              "      <td>4203.08</td>\n",
              "      <td>4221.54</td>\n",
              "      <td>4171.28</td>\n",
              "      <td>4269.23</td>\n",
              "      <td>4593.33</td>\n",
              "      <td>4340.51</td>\n",
              "      <td>b'1'</td>\n",
              "    </tr>\n",
              "    <tr>\n",
              "      <th>14976</th>\n",
              "      <td>4276.92</td>\n",
              "      <td>3991.79</td>\n",
              "      <td>4245.13</td>\n",
              "      <td>4110.77</td>\n",
              "      <td>4332.82</td>\n",
              "      <td>4615.38</td>\n",
              "      <td>4073.33</td>\n",
              "      <td>4621.54</td>\n",
              "      <td>4194.36</td>\n",
              "      <td>4217.44</td>\n",
              "      <td>4162.56</td>\n",
              "      <td>4259.49</td>\n",
              "      <td>4590.26</td>\n",
              "      <td>4333.33</td>\n",
              "      <td>b'1'</td>\n",
              "    </tr>\n",
              "    <tr>\n",
              "      <th>14977</th>\n",
              "      <td>4277.44</td>\n",
              "      <td>3990.77</td>\n",
              "      <td>4246.67</td>\n",
              "      <td>4113.85</td>\n",
              "      <td>4333.33</td>\n",
              "      <td>4615.38</td>\n",
              "      <td>4072.82</td>\n",
              "      <td>4623.59</td>\n",
              "      <td>4193.33</td>\n",
              "      <td>4212.82</td>\n",
              "      <td>4160.51</td>\n",
              "      <td>4257.95</td>\n",
              "      <td>4591.79</td>\n",
              "      <td>4339.49</td>\n",
              "      <td>b'1'</td>\n",
              "    </tr>\n",
              "    <tr>\n",
              "      <th>14978</th>\n",
              "      <td>4284.62</td>\n",
              "      <td>3991.79</td>\n",
              "      <td>4251.28</td>\n",
              "      <td>4122.05</td>\n",
              "      <td>4334.36</td>\n",
              "      <td>4616.41</td>\n",
              "      <td>4080.51</td>\n",
              "      <td>4628.72</td>\n",
              "      <td>4200.00</td>\n",
              "      <td>4220.00</td>\n",
              "      <td>4165.64</td>\n",
              "      <td>4267.18</td>\n",
              "      <td>4596.41</td>\n",
              "      <td>4350.77</td>\n",
              "      <td>b'1'</td>\n",
              "    </tr>\n",
              "    <tr>\n",
              "      <th>14979</th>\n",
              "      <td>4287.69</td>\n",
              "      <td>3997.44</td>\n",
              "      <td>4260.00</td>\n",
              "      <td>4121.03</td>\n",
              "      <td>4333.33</td>\n",
              "      <td>4616.41</td>\n",
              "      <td>4088.72</td>\n",
              "      <td>4638.46</td>\n",
              "      <td>4212.31</td>\n",
              "      <td>4226.67</td>\n",
              "      <td>4167.69</td>\n",
              "      <td>4274.36</td>\n",
              "      <td>4597.95</td>\n",
              "      <td>4350.77</td>\n",
              "      <td>b'1'</td>\n",
              "    </tr>\n",
              "  </tbody>\n",
              "</table>\n",
              "<p>14980 rows × 15 columns</p>\n",
              "</div>"
            ],
            "text/plain": [
              "           AF3       F7       F3  ...       F8      AF4  eyeDetection\n",
              "0      4329.23  4009.23  4289.23  ...  4635.90  4393.85          b'0'\n",
              "1      4324.62  4004.62  4293.85  ...  4632.82  4384.10          b'0'\n",
              "2      4327.69  4006.67  4295.38  ...  4628.72  4389.23          b'0'\n",
              "3      4328.72  4011.79  4296.41  ...  4632.31  4396.41          b'0'\n",
              "4      4326.15  4011.79  4292.31  ...  4632.82  4398.46          b'0'\n",
              "...        ...      ...      ...  ...      ...      ...           ...\n",
              "14975  4281.03  3990.26  4245.64  ...  4593.33  4340.51          b'1'\n",
              "14976  4276.92  3991.79  4245.13  ...  4590.26  4333.33          b'1'\n",
              "14977  4277.44  3990.77  4246.67  ...  4591.79  4339.49          b'1'\n",
              "14978  4284.62  3991.79  4251.28  ...  4596.41  4350.77          b'1'\n",
              "14979  4287.69  3997.44  4260.00  ...  4597.95  4350.77          b'1'\n",
              "\n",
              "[14980 rows x 15 columns]"
            ]
          },
          "metadata": {
            "tags": []
          },
          "execution_count": 10
        }
      ]
    }
  ]
}